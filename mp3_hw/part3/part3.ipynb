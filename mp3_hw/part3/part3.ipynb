{
 "cells": [
  {
   "cell_type": "markdown",
   "metadata": {},
   "source": [
    "# Single-View Geometry (Python)\n",
    "\n",
    "## Usage\n",
    "This code snippet provides an overall code structure and some interactive plot interfaces for the *Single-View Geometry* section of Assignment 3. In [main function](#Main-function), we outline the required functionalities step by step. Some of the functions which involves interactive plots are already provided, but [the rest](#Your-implementation) are left for you to implement.\n",
    "\n",
    "## Package installation\n",
    "- You will need [GUI backend](https://matplotlib.org/faq/usage_faq.html#what-is-a-backend) to enable interactive plots in `matplotlib`.\n",
    "- In this code, we use `tkinter` package. Installation instruction can be found [here](https://anaconda.org/anaconda/tk)."
   ]
  },
  {
   "cell_type": "markdown",
   "metadata": {},
   "source": [
    "# Common imports"
   ]
  },
  {
   "cell_type": "code",
   "execution_count": 1,
   "metadata": {},
   "outputs": [],
   "source": [
    "%matplotlib tk\n",
    "import matplotlib\n",
    "matplotlib.use('TkAgg')\n",
    "import matplotlib.pyplot as plt\n",
    "import numpy as np\n",
    "from sympy import *\n",
    "from sympy import solve\n",
    "\n",
    "from PIL import Image"
   ]
  },
  {
   "cell_type": "markdown",
   "metadata": {},
   "source": [
    "# Provided functions"
   ]
  },
  {
   "cell_type": "code",
   "execution_count": 2,
   "metadata": {},
   "outputs": [],
   "source": [
    "def get_input_lines(im, min_lines=3):\n",
    "    \"\"\"\n",
    "    Allows user to input line segments; computes centers and directions.\n",
    "    Inputs:\n",
    "        im: np.ndarray of shape (height, width, 3)\n",
    "        min_lines: minimum number of lines required\n",
    "    Returns:\n",
    "        n: number of lines from input\n",
    "        lines: np.ndarray of shape (3, n)\n",
    "            where each column denotes the parameters of the line equation\n",
    "        centers: np.ndarray of shape (3, n)\n",
    "            where each column denotes the homogeneous coordinates of the centers\n",
    "    \"\"\"\n",
    "    n = 0\n",
    "    lines = np.zeros((3, 0))\n",
    "    centers = np.zeros((3, 0))\n",
    "    end_points = np.zeros((6, 0))\n",
    "\n",
    "    plt.figure()\n",
    "    plt.imshow(im)\n",
    "    print('Set at least %d lines to compute vanishing point' % min_lines)\n",
    "    while True:\n",
    "        print('Click the two endpoints, use the right key to undo, and use the middle key to stop input')\n",
    "        clicked = plt.ginput(2, timeout=0, show_clicks=True)\n",
    "        if not clicked or len(clicked) < 2:\n",
    "            if n < min_lines:\n",
    "                print('Need at least %d lines, you have %d now' % (min_lines, n))\n",
    "                continue\n",
    "            else:\n",
    "                # Stop getting lines if number of lines is enough\n",
    "                break\n",
    "        # if you have drawn 3 lines, force to stop\n",
    "        if n == 3:\n",
    "            break\n",
    "\n",
    "        # Unpack user inputs and save as homogeneous coordinates\n",
    "        pt1 = np.array([clicked[0][0], clicked[0][1], 1])\n",
    "        pt2 = np.array([clicked[1][0], clicked[1][1], 1])\n",
    "        # Get line equation using cross product\n",
    "        # Line equation: line[0] * x + line[1] * y + line[2] = 0\n",
    "        line = np.cross(pt1, pt2)\n",
    "        lines = np.append(lines, line.reshape((3, 1)), axis=1)\n",
    "        \n",
    "        one_end_points = np.concatenate((pt1, pt2), axis=None)\n",
    "        end_points = np.append(end_points, one_end_points.reshape((6, 1)), axis=1)\n",
    "        # Get center coordinate of the line segment\n",
    "        center = (pt1 + pt2) / 2\n",
    "        centers = np.append(centers, center.reshape((3, 1)), axis=1)\n",
    "\n",
    "        # Plot line segment\n",
    "        plt.plot([pt1[0], pt2[0]], [pt1[1], pt2[1]], color='b')\n",
    "\n",
    "        n += 1\n",
    "\n",
    "    return n, lines, centers, end_points"
   ]
  },
  {
   "cell_type": "code",
   "execution_count": 3,
   "metadata": {},
   "outputs": [],
   "source": [
    "def plot_lines_and_vp(im, lines, vp):\n",
    "    \"\"\"\n",
    "    Plots user-input lines and the calculated vanishing point.\n",
    "    Inputs:\n",
    "        im: np.ndarray of shape (height, width, 3)\n",
    "        lines: np.ndarray of shape (3, n)\n",
    "            where each column denotes the parameters of the line equation\n",
    "        vp: np.ndarray of shape (3, )\n",
    "    \"\"\"\n",
    "    bx1 = min(1, vp[0] / vp[2]) - 10\n",
    "    bx2 = max(im.shape[1], vp[0] / vp[2]) + 10\n",
    "    by1 = min(1, vp[1] / vp[2]) - 10\n",
    "    by2 = max(im.shape[0], vp[1] / vp[2]) + 10\n",
    "\n",
    "    plt.figure()\n",
    "    plt.imshow(im)\n",
    "    for i in range(lines.shape[1]):\n",
    "        if lines[0, i] < lines[1, i]:\n",
    "            pt1 = np.cross(np.array([1, 0, -bx1]), lines[:, i])\n",
    "            pt2 = np.cross(np.array([1, 0, -bx2]), lines[:, i])\n",
    "        else:\n",
    "            pt1 = np.cross(np.array([0, 1, -by1]), lines[:, i])\n",
    "            pt2 = np.cross(np.array([0, 1, -by2]), lines[:, i])\n",
    "        pt1 = pt1 / pt1[2]\n",
    "        pt2 = pt2 / pt2[2]\n",
    "        plt.plot([pt1[0], pt2[0]], [pt1[1], pt2[1]], 'g')\n",
    "\n",
    "    plt.plot(vp[0] / vp[2], vp[1] / vp[2], 'ro')\n",
    "    plt.show()"
   ]
  },
  {
   "cell_type": "code",
   "execution_count": 4,
   "metadata": {},
   "outputs": [],
   "source": [
    "def get_top_and_bottom_coordinates(im, obj):\n",
    "    \"\"\"\n",
    "    For a specific object, prompts user to record the top coordinate and the bottom coordinate in the image.\n",
    "    Inputs:\n",
    "        im: np.ndarray of shape (height, width, 3)\n",
    "        obj: string, object name\n",
    "    Returns:\n",
    "        coord: np.ndarray of shape (3, 2)\n",
    "            where coord[:, 0] is the homogeneous coordinate of the top of the object and coord[:, 1] is the homogeneous\n",
    "            coordinate of the bottom\n",
    "    \"\"\"\n",
    "    plt.figure()\n",
    "    plt.imshow(im)\n",
    "\n",
    "    print('Click on the top coordinate of %s' % obj)\n",
    "    clicked = plt.ginput(1, timeout=0, show_clicks=True)\n",
    "    x1, y1 = clicked[0]\n",
    "    # Uncomment this line to enable a vertical line to help align the two coordinates\n",
    "    # plt.plot([x1, x1], [0, im.shape[0]], 'b')\n",
    "    print('Click on the bottom coordinate of %s' % obj)\n",
    "    clicked = plt.ginput(1, timeout=0, show_clicks=True)\n",
    "    x2, y2 = clicked[0]\n",
    "\n",
    "    plt.plot([x1, x2], [y1, y2], 'b')\n",
    "\n",
    "    return np.array([[x1, x2], [y1, y2], [1, 1]])"
   ]
  },
  {
   "cell_type": "markdown",
   "metadata": {},
   "source": [
    "# Your implementation"
   ]
  },
  {
   "cell_type": "code",
   "execution_count": 5,
   "metadata": {},
   "outputs": [],
   "source": [
    "# get this post from wiki for line intercept\n",
    "# https://en.wikipedia.org/wiki/Line%E2%80%93line_intersection\n",
    "\n",
    "def findIntersection(x1, y1, x2, y2, x3, y3, x4, y4):\n",
    "    px= ( (x1*y2-y1*x2)*(x3-x4)-(x1-x2)*(x3*y4-y3*x4) ) / ( (x1-x2)*(y3-y4)-(y1-y2)*(x3-x4) ) \n",
    "    py= ( (x1*y2-y1*x2)*(y3-y4)-(y1-y2)*(x3*y4-y3*x4) ) / ( (x1-x2)*(y3-y4)-(y1-y2)*(x3-x4) )\n",
    "    return np.array([px, py, 1])\n",
    "\n",
    "def get_vanishing_point(end_points):\n",
    "    \"\"\"\n",
    "    Solves for the vanishing point using the user-input lines.\n",
    "    \"\"\"\n",
    "    # <YOUR IMPLEMENTATION>\n",
    "    p1 = end_points[0:2, 0]\n",
    "    p2 = end_points[3:5, 0]\n",
    "    p3 = end_points[0:2, 1]\n",
    "    p4 = end_points[3:5, 1]\n",
    "    p5 = end_points[0:2, 2]\n",
    "    p6 = end_points[3:5, 2]\n",
    "    \n",
    "    vp1 = findIntersection(p1[0], p1[1], p2[0], p2[1], p3[0], p3[1], p4[0], p4[1])\n",
    "    vp2 = findIntersection(p5[0], p5[1], p6[0], p6[1], p3[0], p3[1], p4[0], p4[1])\n",
    "    vp = (vp1 + vp2) / 2\n",
    "    \n",
    "    print('coord of vanishing point: ')\n",
    "    print(vp)\n",
    "    return vp"
   ]
  },
  {
   "cell_type": "code",
   "execution_count": 6,
   "metadata": {},
   "outputs": [],
   "source": [
    "# using cross to connect the vanishing points togethter\n",
    "\n",
    "def get_horizon_line(vanishing_points):\n",
    "    \"\"\"\n",
    "    Calculates the ground horizon line.\n",
    "    \"\"\"\n",
    "    # <YOUR IMPLEMENTATION>\n",
    "    # we can only use the two finite vanishing points\n",
    "    p1 = vanishing_points[:, 0]\n",
    "    p2 = vanishing_points[:, 1]\n",
    "    \n",
    "    # normalize it to a^2 + b^2\n",
    "    horizon = np.cross(p1, p2)\n",
    "    horizon = horizon / np.sqrt(horizon[0]**2 + horizon[1]**2)\n",
    "    \n",
    "    print('get horizon param: ')\n",
    "    print(horizon)\n",
    "    return horizon, vanishing_points[:, 0:2]"
   ]
  },
  {
   "cell_type": "code",
   "execution_count": 7,
   "metadata": {},
   "outputs": [],
   "source": [
    "# plot the horizon line with two finite vanishing points\n",
    "\n",
    "def plot_horizon_line(im, vp):\n",
    "    \"\"\"\n",
    "    Plots the horizon line.\n",
    "    \"\"\"\n",
    "    # <YOUR IMPLEMENTATION>\n",
    "    x1 = vp[0][0]\n",
    "    x2 = vp[0][1]\n",
    "    y1 = vp[1][0]\n",
    "    y2 = vp[1][1]\n",
    "    \n",
    "    slope = (y2 - y1)/(x2 - x1)\n",
    "    intercept = y1 - slope * x1\n",
    "    \n",
    "    right_end = slope * im.shape[1] + intercept\n",
    "    \n",
    "    plt.figure()\n",
    "    plt.imshow(im)\n",
    "    plt.plot([0, im.shape[1]], [intercept, right_end], color='b')\n",
    "    plt.show()"
   ]
  },
  {
   "cell_type": "code",
   "execution_count": 8,
   "metadata": {},
   "outputs": [],
   "source": [
    "def get_camera_parameters(vpts):\n",
    "    \"\"\"\n",
    "    Computes the camera parameters. Hint: The SymPy package is suitable for this.\n",
    "    \"\"\"\n",
    "    # <YOUR IMPLEMENTATION>\n",
    "    # this is the intrinsic matrix of camera by v_i^TK^(-T)K^(-1)v_j = 0\n",
    "    vpt1 = vpts[:, 0][:, np.newaxis]\n",
    "    vpt2 = vpts[:, 1][:, np.newaxis]\n",
    "    vpt3 = vpts[:, 2][:, np.newaxis]\n",
    "    \n",
    "    f, px, py = symbols('f, px, py')\n",
    "    Kinv = Matrix([[1 / f, 0, -px / f], [0, 1 / f, -py / f], [0, 0, 1]])\n",
    "    \n",
    "    # three orthogonal equation\n",
    "    m1 = vpt1.T * Kinv.T * Kinv * vpt2\n",
    "    m2 = vpt1.T * Kinv.T * Kinv * vpt3\n",
    "    m3 = vpt2.T * Kinv.T * Kinv * vpt3\n",
    "    f, px, py = solve([m1[0], m2[0], m3[0]], (f, px, py))[0]\n",
    "    \n",
    "    return abs(f), px, py"
   ]
  },
  {
   "cell_type": "code",
   "execution_count": 9,
   "metadata": {},
   "outputs": [],
   "source": [
    "def get_rotation_matrix(vpts, f, px, py):\n",
    "    \"\"\"\n",
    "    Computes the rotation matrix using the camera parameters.\n",
    "    \"\"\"\n",
    "    # r_i = lambda_i * K^(-1) * v_i\n",
    "    vpt1 = vpts[:, 0][:, np.newaxis]\n",
    "    vpt2 = vpts[:, 1][:, np.newaxis]\n",
    "    vpt3 = vpts[:, 2][:, np.newaxis]\n",
    "    \n",
    "    Kinv = np.array([[1 / f, 0, -px / f], [0, 1 / f, -py / f], [0, 0, 1]]).astype(np.float)\n",
    "    r1 = Kinv.dot(vpt1)\n",
    "    r2 = Kinv.dot(vpt2)\n",
    "    r3 = Kinv.dot(vpt3)\n",
    "    \n",
    "    r1 = r1 / np.linalg.norm(r1)\n",
    "    r2 = r2 / np.linalg.norm(r2)\n",
    "    r3 = r3 / np.linalg.norm(r3)\n",
    "    return np.concatenate((r1, r2, r3), axis=1)"
   ]
  },
  {
   "cell_type": "code",
   "execution_count": 10,
   "metadata": {},
   "outputs": [],
   "source": [
    "# matching all coords to horizon line to calculate its height\n",
    "def estimate_height(im, obj, coords, horizon, standard_height, finite_vanishing_points):\n",
    "    \"\"\"\n",
    "    Estimates height for a specific object using the recorded coordinates. You might need to plot additional images here for\n",
    "    your report.\n",
    "    \"\"\"\n",
    "    # <YOUR IMPLEMENTATION>\n",
    "    infinite_vp = vpts[:, 2]\n",
    "    \n",
    "    person_top = coords['person'][:, 0]\n",
    "    person_bottom = coords['person'][:, 1]\n",
    "\n",
    "    obj_top = coords[obj][:, 0]\n",
    "    obj_bottom = coords[obj][:, 1]\n",
    "\n",
    "    two_bottom_connected = np.cross(person_bottom, obj_bottom)\n",
    "    bottom_horizon_intersect = np.cross(two_bottom_connected, horizon)\n",
    "    bottom_horizon_intersect = bottom_horizon_intersect / bottom_horizon_intersect[-1]\n",
    "    \n",
    "    persontop_object = np.cross(bottom_horizon_intersect, person_top)\n",
    "    estimated_obj_line = np.cross(obj_top, obj_bottom)\n",
    "    object_got_intercept = np.cross(persontop_object, estimated_obj_line)\n",
    "    object_got_intercept = object_got_intercept / object_got_intercept[-1]\n",
    "    \n",
    "    invariant1 = np.linalg.norm(obj_top - obj_bottom)\n",
    "    invariant2 = np.linalg.norm(infinite_vp - object_got_intercept)\n",
    "    invariant3 = np.linalg.norm(object_got_intercept - obj_bottom)\n",
    "    invariant4 = np.linalg.norm(infinite_vp - obj_top)\n",
    "    \n",
    "    height = standard_height * (invariant1 * invariant2 / invariant3 / invariant4)\n",
    "    \n",
    "    # all the invariant lines we calculated above\n",
    "    plt.figure()\n",
    "    plt.imshow(im)\n",
    "    # plot the standard person line\n",
    "    plt.plot([person_top[0], person_bottom[0]], [person_top[1], person_bottom[1]])\n",
    "    # plot the obj\n",
    "    plt.plot([obj_top[0], obj_bottom[0]], [obj_top[1], obj_bottom[1]])\n",
    "    # plot the line connecting the bottoms of obj and reference person\n",
    "    plt.plot([person_bottom[0], obj_bottom[0]], [person_bottom[1], obj_bottom[1]])\n",
    "    # plot the line connecting the top of ...\n",
    "    plt.plot([person_top[0], obj_top[0]], [person_top[1], obj_top[1]])\n",
    "    # plot the vanishing lines\n",
    "    def plot_horizon_line_inside(im, vp):\n",
    "        x1 = vp[0][0]\n",
    "        x2 = vp[0][1]\n",
    "        y1 = vp[1][0]\n",
    "        y2 = vp[1][1]\n",
    "        slope = (y2 - y1)/(x2 - x1)\n",
    "        intercept = y1 - slope * x1\n",
    "        right_end = slope * im.shape[1] + intercept\n",
    "        plt.plot([0, im.shape[1]], [intercept, right_end], color='b')\n",
    "\n",
    "    plot_horizon_line_inside(im, finite_vanishing_points)\n",
    "    \n",
    "    plt.show()\n",
    "    \n",
    "    return height"
   ]
  },
  {
   "cell_type": "markdown",
   "metadata": {},
   "source": [
    "# Main function"
   ]
  },
  {
   "cell_type": "code",
   "execution_count": 11,
   "metadata": {},
   "outputs": [
    {
     "name": "stdout",
     "output_type": "stream",
     "text": [
      "Getting vanishing point 0\n",
      "Set at least 3 lines to compute vanishing point\n",
      "Click the two endpoints, use the right key to undo, and use the middle key to stop input\n",
      "Click the two endpoints, use the right key to undo, and use the middle key to stop input\n",
      "Click the two endpoints, use the right key to undo, and use the middle key to stop input\n",
      "Click the two endpoints, use the right key to undo, and use the middle key to stop input\n",
      "end of selecting lines\n",
      "coord of vanishing point: \n",
      "[-746.25322053  252.86976347    1.        ]\n",
      "Getting vanishing point 1\n",
      "Set at least 3 lines to compute vanishing point\n",
      "Click the two endpoints, use the right key to undo, and use the middle key to stop input\n",
      "Click the two endpoints, use the right key to undo, and use the middle key to stop input\n",
      "Click the two endpoints, use the right key to undo, and use the middle key to stop input\n",
      "Click the two endpoints, use the right key to undo, and use the middle key to stop input\n",
      "end of selecting lines\n",
      "coord of vanishing point: \n",
      "[1.73800251e+03 2.62427930e+02 1.00000000e+00]\n",
      "Getting vanishing point 2\n",
      "Set at least 3 lines to compute vanishing point\n",
      "Click the two endpoints, use the right key to undo, and use the middle key to stop input\n",
      "Click the two endpoints, use the right key to undo, and use the middle key to stop input\n",
      "Click the two endpoints, use the right key to undo, and use the middle key to stop input\n",
      "Click the two endpoints, use the right key to undo, and use the middle key to stop input\n",
      "end of selecting lines\n",
      "coord of vanishing point: \n",
      "[6.38229529e+02 7.12469777e+03 1.00000000e+00]\n",
      "get horizon param: \n",
      "[-3.84746839e-03  9.99992598e-01 -2.55739078e+02]\n"
     ]
    },
    {
     "name": "stderr",
     "output_type": "stream",
     "text": [
      "/Users/wangluning/miniconda3/lib/python3.7/site-packages/ipykernel_launcher.py:24: RuntimeWarning: divide by zero encountered in true_divide\n",
      "/Users/wangluning/miniconda3/lib/python3.7/site-packages/ipykernel_launcher.py:24: RuntimeWarning: invalid value encountered in true_divide\n",
      "/Users/wangluning/miniconda3/lib/python3.7/site-packages/ipykernel_launcher.py:25: RuntimeWarning: divide by zero encountered in true_divide\n",
      "/Users/wangluning/miniconda3/lib/python3.7/site-packages/ipykernel_launcher.py:25: RuntimeWarning: invalid value encountered in true_divide\n"
     ]
    }
   ],
   "source": [
    "im = np.asarray(Image.open('CSL.jpg'))\n",
    "\n",
    "# Part 1\n",
    "# Get vanishing points for each of the directions\n",
    "num_vpts = 3\n",
    "vpts = np.zeros((3, num_vpts))\n",
    "for i in range(num_vpts):\n",
    "    print('Getting vanishing point %d' % i)\n",
    "    # Get at least three lines from user input\n",
    "    n, lines, centers, end_points = get_input_lines(im)\n",
    "    \n",
    "    # <YOUR IMPLEMENTATION> Solve for vanishing point\n",
    "    print(\"end of selecting lines\")\n",
    "    \n",
    "    vpts[:, i] = get_vanishing_point(end_points)\n",
    "    # Plot the lines and the vanishing point\n",
    "    plot_lines_and_vp(im, lines, vpts[:, i])\n",
    "\n",
    "# <YOUR IMPLEMENTATION> Get the ground horizon line\n",
    "horizon, finite_vanishing_points = get_horizon_line(vpts)\n",
    "\n",
    "# <YOUR IMPLEMENTATION> Plot the ground horizon line\n",
    "plot_horizon_line(im, finite_vanishing_points)"
   ]
  },
  {
   "cell_type": "code",
   "execution_count": 29,
   "metadata": {},
   "outputs": [
    {
     "name": "stdout",
     "output_type": "stream",
     "text": [
      "focal length: 789.080216878090\n",
      "optical center x: 480.784050745996\n",
      "optical center y: 293.382064049728\n"
     ]
    }
   ],
   "source": [
    "# Part 2\n",
    "# <YOUR IMPLEMENTATION> Solve for the camera parameters (f, u, v)\n",
    "f, u, v = get_camera_parameters(vpts)\n",
    "print('focal length: '+ str(f))\n",
    "print('optical center x: ' + str(u))\n",
    "print('optical center y: ' + str(v))"
   ]
  },
  {
   "cell_type": "code",
   "execution_count": 34,
   "metadata": {},
   "outputs": [
    {
     "name": "stdout",
     "output_type": "stream",
     "text": [
      "rotation matrix: [[-0.69196587  0.72187136  0.00921808]\n",
      " [-0.07092302 -0.08068065  0.99421354]\n",
      " [ 0.718438    0.68730806  0.10702556]]\n"
     ]
    }
   ],
   "source": [
    "# Part 3\n",
    "# <YOUR IMPLEMENTATION> Solve for the rotation matrix\n",
    "R = get_rotation_matrix(vpts, f, u, v)\n",
    "print('rotation matrix: ' + str(R))"
   ]
  },
  {
   "cell_type": "code",
   "execution_count": 36,
   "metadata": {},
   "outputs": [
    {
     "name": "stdout",
     "output_type": "stream",
     "text": [
      "Click on the top coordinate of person\n",
      "Click on the bottom coordinate of person\n",
      "Click on the top coordinate of CSL building\n",
      "Click on the bottom coordinate of CSL building\n",
      "Click on the top coordinate of the spike statue\n",
      "Click on the bottom coordinate of the spike statue\n",
      "Click on the top coordinate of the lamp posts\n",
      "Click on the bottom coordinate of the lamp posts\n",
      "Estimating height of CSL building\n",
      "Estimated height of CSL building is 38.16283119433413 m\n",
      "Estimating height of the spike statue\n",
      "Estimated height of the spike statue is 9.796303648082798 m\n",
      "Estimating height of the lamp posts\n",
      "Estimated height of the lamp posts is 4.536315680271095 m\n"
     ]
    },
    {
     "name": "stderr",
     "output_type": "stream",
     "text": [
      "/Users/wangluning/miniconda3/lib/python3.7/site-packages/matplotlib/pyplot.py:514: RuntimeWarning: More than 20 figures have been opened. Figures created through the pyplot interface (`matplotlib.pyplot.figure`) are retained until explicitly closed and may consume too much memory. (To control this warning, see the rcParam `figure.max_open_warning`).\n",
      "  max_open_warning, RuntimeWarning)\n"
     ]
    }
   ],
   "source": [
    "# Part 4\n",
    "# Record image coordinates for each object and store in map\n",
    "objects = ('person', 'CSL building', 'the spike statue', 'the lamp posts')\n",
    "coords = dict()\n",
    "for obj in objects:\n",
    "    coords[obj] = get_top_and_bottom_coordinates(im, obj)\n",
    "\n",
    "# <YOUR IMPLEMENTATION> Estimate heights\n",
    "standard_height = 1.6764  # of the person next to the spike\n",
    "\n",
    "for obj in objects[1:]:\n",
    "    print('Estimating height of %s' % obj)\n",
    "    height = estimate_height(im, obj, coords, horizon, standard_height, finite_vanishing_points)\n",
    "    print(\"Estimated height of {} is {} m\".format(obj, height))\n"
   ]
  },
  {
   "cell_type": "code",
   "execution_count": 37,
   "metadata": {},
   "outputs": [
    {
     "name": "stdout",
     "output_type": "stream",
     "text": [
      "Estimating height of CSL building\n",
      "Estimated height of CSL building is 41.63217948472814 m\n",
      "Estimating height of the spike statue\n",
      "Estimated height of the spike statue is 10.686876706999417 m\n",
      "Estimating height of the lamp posts\n",
      "Estimated height of the lamp posts is 4.948708014841195 m\n"
     ]
    }
   ],
   "source": [
    "# <YOUR IMPLEMENTATION> Estimate heights\n",
    "standard_height = 1.8288 # of the person next to the spike\n",
    "\n",
    "for obj in objects[1:]:\n",
    "    print('Estimating height of %s' % obj)\n",
    "    height = estimate_height(im, obj, coords, horizon, standard_height, finite_vanishing_points)\n",
    "    print(\"Estimated height of {} is {} m\".format(obj, height))"
   ]
  },
  {
   "cell_type": "markdown",
   "metadata": {},
   "source": [
    "# Extra Credit"
   ]
  },
  {
   "cell_type": "code",
   "execution_count": 41,
   "metadata": {},
   "outputs": [
    {
     "name": "stdout",
     "output_type": "stream",
     "text": [
      "Click on the top coordinate of person\n",
      "Click on the bottom coordinate of person\n",
      "Click on the top coordinate of person1\n",
      "Click on the bottom coordinate of person1\n",
      "Click on the top coordinate of person2\n",
      "Click on the bottom coordinate of person2\n",
      "Click on the top coordinate of person3\n",
      "Click on the bottom coordinate of person3\n",
      "Click on the top coordinate of window\n",
      "Click on the bottom coordinate of window\n",
      "Estimating height of person1\n",
      "Estimated height of person1 is 1.4964519010597526 m\n",
      "Estimating height of person2\n",
      "Estimated height of person2 is 1.625622621491757 m\n",
      "Estimating height of person3\n",
      "Estimated height of person3 is 1.8235501563297507 m\n",
      "Estimating height of window\n",
      "Estimated height of window is 3.4546059910628157 m\n"
     ]
    }
   ],
   "source": [
    "extra_objects = ('person', 'person1', 'person2', 'person3', 'window')\n",
    "coords = dict()\n",
    "for obj in extra_objects:\n",
    "    coords[obj] = get_top_and_bottom_coordinates(im, obj)\n",
    "\n",
    "# <YOUR IMPLEMENTATION> Estimate heights\n",
    "standard_height = 1.6764  # of the person next to the spike\n",
    "\n",
    "for obj in extra_objects[1:]:\n",
    "    print('Estimating height of %s' % obj)\n",
    "    height = estimate_height(im, obj, coords, horizon, standard_height, finite_vanishing_points)\n",
    "    print(\"Estimated height of {} is {} m\".format(obj, height))\n"
   ]
  },
  {
   "cell_type": "code",
   "execution_count": null,
   "metadata": {},
   "outputs": [],
   "source": []
  }
 ],
 "metadata": {
  "kernelspec": {
   "display_name": "Python 3",
   "language": "python",
   "name": "python3"
  },
  "language_info": {
   "codemirror_mode": {
    "name": "ipython",
    "version": 3
   },
   "file_extension": ".py",
   "mimetype": "text/x-python",
   "name": "python",
   "nbconvert_exporter": "python",
   "pygments_lexer": "ipython3",
   "version": "3.7.1"
  }
 },
 "nbformat": 4,
 "nbformat_minor": 2
}
